{
 "cells": [
  {
   "cell_type": "code",
   "execution_count": null,
   "metadata": {},
   "outputs": [],
   "source": [
    "# TESTING\n",
    "from chemcalculator.chemcalculator import compute_mass\n",
    "\n",
    "\n",
    "# GENERAL DEBUGGING NOTES\n",
    "#This error usually means that the input to the function compute_mass(), has a mispelled element. Check if there are any capital letters that should be small, or other way around.\n",
    "ValueError: Chemical compound contains element not in periodic table.\n",
    "\n",
    "\n",
    "# DECIMALS AND SCIENTIFIC NOTATION\n",
    "# The following function converts a number to scientific notation\n",
    "format(yield_moles,'.1E')\n",
    "# The '.1E' argument can be changed, to provide more decimal values.\n",
    "# E.g. '.1E' provides 1 decimal accuracy: 2.2E+05\n",
    "# E.g. '.2E' provides 1 decimal accuracy: 2.24E+05¨\n",
    "# And so on..."
   ]
  },
  {
   "cell_type": "code",
   "execution_count": 35,
   "metadata": {},
   "outputs": [
    {
     "name": "stdout",
     "output_type": "stream",
     "text": [
      "2.014\n",
      "1.001\n",
      "The percentage mass of O in H2O is: 88.819 %\n",
      "88.819\n"
     ]
    }
   ],
   "source": [
    "from chemcalculator.chemcalculator import compute_mass\n",
    "from chemcalculator.chemcalculator import moles_grams_converter\n",
    "from chemcalculator.chemcalculator import percent_mass\n",
    "mass = compute_mass(\"H2\")\n",
    "print(mass)\n",
    "m = moles_grams_converter(\"H2O\", 0.05555, \"moles\")\n",
    "print(m)\n",
    "pm = percent_mass(\"H2O\", \"O\")\n",
    "print(pm)"
   ]
  },
  {
   "cell_type": "code",
   "execution_count": 19,
   "metadata": {},
   "outputs": [
    {
     "name": "stdout",
     "output_type": "stream",
     "text": [
      "{'H2': 3, 'N2': 1}  ->  {'NH3': 2}\n",
      "OBS: ORDER OF REACTANTS AND PRODUCTS MIGHT BE SWITCHED IN OUTPUT!\n"
     ]
    }
   ],
   "source": [
    "##########################\n",
    "# BALANCING EQUATIONS\n",
    "##########################\n",
    "from chempy import balance_stoichiometry\n",
    "from chempy import mass_fractions\n",
    "reac, prod = balance_stoichiometry({'N2', 'H2'}, {'NH3'})\n",
    "print(dict(reac),\" -> \",dict(prod))\n",
    "print(\"OBS: ORDER OF REACTANTS AND PRODUCTS MIGHT BE SWITCHED IN OUTPUT!\")\n",
    "\n",
    "#Dunno what this is...\n",
    "#for fractions in map(mass_fractions, [reac, prod]):\n",
    "    #pprint({k: '{0:.3g} wt%'.format(v*100) for k, v in fractions.items()})"
   ]
  },
  {
   "cell_type": "code",
   "execution_count": 18,
   "metadata": {},
   "outputs": [
    {
     "name": "stdout",
     "output_type": "stream",
     "text": [
      "Moles of reactant:  448467.39354042383 Scientific Notation:  4.5E+05\n",
      "Yield in moles:  224233.69677021191 Scientific Notation:  2.24E+05\n",
      "Yield in grams:  10733394.363299733 Scientific Notation:  1.1E+07\n"
     ]
    }
   ],
   "source": [
    "####################################################\n",
    "# CALCULATE YIELD OF REACTION\n",
    "####################################################\n",
    "\n",
    "# IF THERE IS UNLIMITED AMOUNT OF SOME REACTANT, do calculation below:\n",
    "\n",
    "from chemcalculator.chemcalculator import compute_mass\n",
    "from chemcalculator.chemcalculator import moles_grams_converter\n",
    "# EXAMPLE: 16.0 grams of H2 reacts completely with N2(So unlimited N2 is availabe, thus H2 is the limiting factor) \n",
    "#EQUATION: N2 + H2 -> NH3\n",
    "#Balanced equation: N2 + 3H2 -> 2NH3\n",
    "#From coefficients we see: 3 moles of H2 becomes 2 moles of NH3\n",
    "# So conversion factor is 2/3. reactant coefficient / product coefficient\n",
    "conv_factor = 1/2\n",
    "reactant_start_grams = 1.09 * pow(10,7)\n",
    "reactant_name = \"Mg\"\n",
    "procuct_name = \"Ti\"\n",
    "# We get gram -> moles of reactant\n",
    "#moles = moles_grams_converter(\"H2\", 16.0, \"moles\")\n",
    "moles = reactant_start_grams * (1 / compute_mass(reactant_name)) \n",
    "print(\"Moles of reactant: \", moles, \"Scientific Notation: \" , format(moles,'.1E'))\n",
    "yield_moles = moles * conv_factor\n",
    "print(\"Yield in moles: \", yield_moles , \"Scientific Notation: \" , format(yield_moles,'.2E'))\n",
    "yield_grams = yield_moles * compute_mass(procuct_name)\n",
    "print(\"Yield in grams: \", yield_grams, \"Scientific Notation: \" , format(yield_grams,'.1E'))\n",
    "\n",
    "# IF THERE IS LIMITED AMOUNT OF EVERY REACTANT, do calculation above for each individual reactant/product, and identify, which reactant is the limiting reactant. The Yield from the limiting factor, will be the total yield. \n",
    "\n"
   ]
  },
  {
   "cell_type": "code",
   "execution_count": 5,
   "metadata": {},
   "outputs": [
    {
     "name": "stdout",
     "output_type": "stream",
     "text": [
      "32 H+ + 4 MnO4- + 20 OH- = 26 H2O + 4 Mn+2 + 5 O2; K1**4/K2**5\n",
      "12 H+ + 4 MnO4- = 6 H2O + 4 Mn+2 + 5 O2; K1**4*Kw**20/K2**5\n"
     ]
    }
   ],
   "source": [
    "##########################\n",
    "# REDOX REACTIONS\n",
    "##########################\n",
    "from chempy import Equilibrium\n",
    "from sympy import symbols\n",
    "K1, K2, Kw = symbols('K1 K2 Kw')\n",
    "e1 = Equilibrium({'MnO4-': 1, 'H+': 8, 'e-': 5}, {'Mn+2': 1, 'H2O': 4}, K1)\n",
    "e2 = Equilibrium({'O2': 1, 'H2O': 2, 'e-': 4}, {'OH-': 4}, K2)\n",
    "coeff = Equilibrium.eliminate([e1, e2], 'e-')\n",
    "redox = e1*coeff[0] + e2*coeff[1]\n",
    "print(redox)\n",
    "autoprot = Equilibrium({'H2O': 1}, {'H+': 1, 'OH-': 1}, Kw)\n",
    "n = redox.cancel(autoprot)\n",
    "\n",
    "redox2 = redox + n*autoprot\n",
    "print(redox2)"
   ]
  }
 ],
 "metadata": {
  "interpreter": {
   "hash": "dacf40ba69c4e52f13991c9802a7e3e4c13661a31627ca571217c8b5d093ad33"
  },
  "kernelspec": {
   "display_name": "Python 3.9.6 64-bit",
   "language": "python",
   "name": "python3"
  },
  "language_info": {
   "codemirror_mode": {
    "name": "ipython",
    "version": 3
   },
   "file_extension": ".py",
   "mimetype": "text/x-python",
   "name": "python",
   "nbconvert_exporter": "python",
   "pygments_lexer": "ipython3",
   "version": "3.9.6"
  },
  "orig_nbformat": 4
 },
 "nbformat": 4,
 "nbformat_minor": 2
}

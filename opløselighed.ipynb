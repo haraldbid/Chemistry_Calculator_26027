{
 "cells": [
  {
   "cell_type": "code",
   "execution_count": null,
   "metadata": {},
   "outputs": [],
   "source": [
    "# Forskellige mål for opløselighed\n",
    "\n",
    "#Masseprocent\n",
    "\n",
    "#m = masse af solut / (masse af solut + masse af solvent) * 100%\n",
    "#(nævner = det totale i beholderen)\n",
    "\n",
    "#Molaritet\n",
    "#M = mol af solut / (liter af solut + liter af solvent)\n",
    "\n",
    "\n"
   ]
  },
  {
   "cell_type": "code",
   "execution_count": 4,
   "metadata": {},
   "outputs": [
    {
     "name": "stdout",
     "output_type": "stream",
     "text": [
      "1.665\n"
     ]
    }
   ],
   "source": [
    "### Molalitet af et stof\n",
    "\n",
    "# Udregn mol, hvis man har stoffet i gram:\n",
    "from chemcalculator.chemcalculator import compute_mass\n",
    "from chemcalculator.chemcalculator import moles_grams_converter\n",
    "\n",
    "# Input opløste stof og antal gram:\n",
    "mass = compute_mass(\"C6H12O6\")\n",
    "moles = moles_grams_converter(\"C6H12O6\", 60, \"grams\")\n",
    "\n",
    "\n",
    "#m = mol af solut / masse af solvent(kg)\n",
    "mol_solu = moles  # mol ÆNDRE MOLES til tal, hvis du allerede har fået opgivet mol\n",
    "m_solv = 0.2 # vægt af opløsningsmiddel i kg(Vand er L -> kg det samme)\n",
    "\n",
    "print(mol_solu/m_solv)\n"
   ]
  },
  {
   "cell_type": "code",
   "execution_count": 7,
   "metadata": {},
   "outputs": [
    {
     "name": "stdout",
     "output_type": "stream",
     "text": [
      "Delta T(I grader Celsius)=  3.0969\n"
     ]
    }
   ],
   "source": [
    "### FRYSEPUNKTNEDSÆTNING\n",
    "\n",
    "i = 1 #Disociationsgraden, er 1 for ikke elektrolyter(ethanol og sukker blandt andet.)(2 for nacl)(3 for mgCl2)\n",
    "k_f = 1.86 #C * (kg/mol) konstant værdi specifikt til et molekyle(tabelværdi typisk)\n",
    "m = 1.665 # molalitet(Udregn ved felt ovenfor)\n",
    "\n",
    "delta_T = i * k_f * m\n",
    "\n",
    "print(\"Delta T(I grader Celsius)= \",delta_T)"
   ]
  },
  {
   "cell_type": "code",
   "execution_count": null,
   "metadata": {},
   "outputs": [],
   "source": [
    "### OSMOTISK TRYK\n",
    "\n",
    "R = 8.3145 # J / (k * mol)\n",
    "T =  # Temperatur KELVIN\n",
    "M = 1 # Molaritet af opløst stof\n",
    "pi =  # osmotisk tryk (ikke tallet pi...)\n",
    "i = 1 #Disociationsgraden, er 1 for ikke elektrolyter(ethanol og sukker blandt andet.)(2 for nacl)(3 for mgCl2)\n",
    "\n",
    "#pi = i*M*R*T"
   ]
  }
 ],
 "metadata": {
  "interpreter": {
   "hash": "9948c7ab8ffc357c84f33d2d91c30e30ed9605eaefc14be7846fc1887a9d14a3"
  },
  "kernelspec": {
   "display_name": "Python 3.9.6 64-bit",
   "language": "python",
   "name": "python3"
  },
  "language_info": {
   "codemirror_mode": {
    "name": "ipython",
    "version": 3
   },
   "file_extension": ".py",
   "mimetype": "text/x-python",
   "name": "python",
   "nbconvert_exporter": "python",
   "pygments_lexer": "ipython3",
   "version": "3.9.6"
  },
  "orig_nbformat": 4
 },
 "nbformat": 4,
 "nbformat_minor": 2
}

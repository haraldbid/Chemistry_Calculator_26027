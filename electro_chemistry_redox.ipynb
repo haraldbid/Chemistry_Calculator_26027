{
 "cells": [
  {
   "cell_type": "code",
   "execution_count": null,
   "metadata": {},
   "outputs": [],
   "source": [
    "##########################\n",
    "# REDOX REACTIONS\n",
    "##########################\n",
    "from chempy import Equilibrium\n",
    "from sympy import symbols\n",
    "K1, K2, Kw = symbols('K1 K2 Kw')\n",
    "e1 = Equilibrium({'MnO4-': 1, 'H+': 8, 'e-': 5}, {'Mn+2': 1, 'H2O': 4}, K1)\n",
    "e2 = Equilibrium({'O2': 1, 'H2O': 2, 'e-': 4}, {'OH-': 4}, K2)\n",
    "coeff = Equilibrium.eliminate([e1, e2], 'e-')\n",
    "redox = e1*coeff[0] + e2*coeff[1]\n",
    "print(redox)\n",
    "autoprot = Equilibrium({'H2O': 1}, {'H+': 1, 'OH-': 1}, Kw)\n",
    "n = redox.cancel(autoprot)\n",
    "\n",
    "redox2 = redox + n*autoprot\n",
    "print(redox2)"
   ]
  },
  {
   "cell_type": "code",
   "execution_count": null,
   "metadata": {},
   "outputs": [],
   "source": []
  },
  {
   "cell_type": "markdown",
   "metadata": {},
   "source": []
  }
 ],
 "metadata": {
  "interpreter": {
   "hash": "52ef40bef6fe95d01f4e6a289b0a18d186ae9fe07d6aa691c20f678f5dee4f12"
  },
  "kernelspec": {
   "display_name": "Python 3.9.12 64-bit (windows store)",
   "language": "python",
   "name": "python3"
  },
  "language_info": {
   "name": "python",
   "version": "3.9.12"
  },
  "orig_nbformat": 4
 },
 "nbformat": 4,
 "nbformat_minor": 2
}

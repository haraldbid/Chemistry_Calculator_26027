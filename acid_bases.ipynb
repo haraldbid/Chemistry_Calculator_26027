{
 "cells": [
  {
   "cell_type": "code",
   "execution_count": 4,
   "metadata": {},
   "outputs": [
    {
     "name": "stdout",
     "output_type": "stream",
     "text": [
      "4.3979400086720375\n"
     ]
    }
   ],
   "source": [
    "##########################\n",
    "# STRONG ACID AND BASES\n",
    "##########################\n",
    "\n",
    "import math\n",
    "\n",
    "# ph < 7 acidic solution [OH-] < [H3O+]\n",
    "# ph > 7 basic solution [OH-] > [H3O+]\n",
    "\n",
    "\n",
    "conc_H3O = 0.4 * pow(10,-4)\n",
    "ph = -math.log(conc_H3O,10)\n",
    "\n",
    "# 14 = ph + poh\n",
    "# [OH-] = 10^-poh\n",
    "# [H3O+] = 10^-ph\n",
    "\n",
    "# pka = -log(ka)\n",
    "# pka + pkb = 14\n",
    "# kb = 10^-pkb\n",
    "# kw = 1*10^-14 = [H3O+] * [OH-]\n",
    "\n",
    "print(ph)\n",
    "\n"
   ]
  },
  {
   "cell_type": "code",
   "execution_count": null,
   "metadata": {},
   "outputs": [],
   "source": [
    "##########################\n",
    "# AHRENIUS\n",
    "##########################\n",
    "\n",
    "https://www.youtube.com/watch?v=OP6RKqSp1Xw\n",
    "https://pypi.org/project/pHcalc/"
   ]
  }
 ],
 "metadata": {
  "interpreter": {
   "hash": "52ef40bef6fe95d01f4e6a289b0a18d186ae9fe07d6aa691c20f678f5dee4f12"
  },
  "kernelspec": {
   "display_name": "Python 3.9.12 64-bit (windows store)",
   "language": "python",
   "name": "python3"
  },
  "language_info": {
   "codemirror_mode": {
    "name": "ipython",
    "version": 3
   },
   "file_extension": ".py",
   "mimetype": "text/x-python",
   "name": "python",
   "nbconvert_exporter": "python",
   "pygments_lexer": "ipython3",
   "version": "3.9.13"
  },
  "orig_nbformat": 4
 },
 "nbformat": 4,
 "nbformat_minor": 2
}

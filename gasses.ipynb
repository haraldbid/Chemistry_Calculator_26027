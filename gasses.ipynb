{
 "cells": [
  {
   "cell_type": "code",
   "execution_count": null,
   "metadata": {},
   "outputs": [],
   "source": [
    "### DALTONS LAW\n",
    "# Partial tryk\n",
    "# Det totale tryk i en beholde P_t\n",
    "# Er summen af de individuelle tryk\n",
    "\n",
    "\n",
    "# Tryyk og volumen er afhængig af hinanden\n",
    "# p * V = konstant\n",
    "# Deraf udledes også: p1 * V2 = p2 * V2"
   ]
  },
  {
   "cell_type": "code",
   "execution_count": 6,
   "metadata": {},
   "outputs": [
    {
     "name": "stdout",
     "output_type": "stream",
     "text": [
      "9.00904046386932\n"
     ]
    }
   ],
   "source": [
    "### IDEALGASLIGNING\n",
    "## p : pressure\n",
    "p = 3\n",
    "## V3: Volume\n",
    "\n",
    "## n : stofmængde (mol)\n",
    "n = 0.9975684269592868\n",
    "## R : gaskonstant (HOLD ØJE MED ENHEDER)\n",
    "R = 0.0821 # atm / (K * mol)\n",
    "#R = 8.3145 # J / (k * mol)\n",
    "## T : Temperature (k, læg 273.15 til for at gå fra c til k)\n",
    "#T = 0 + 273.15\n",
    "T = 330\n",
    "#p = ( n * R * T ) / V\n",
    "\n",
    "V = ( n * R * T ) / p\n",
    "print(V)"
   ]
  },
  {
   "cell_type": "code",
   "execution_count": null,
   "metadata": {},
   "outputs": [],
   "source": [
    "### DENSITET\n",
    "\n",
    "# normalt:\n",
    "sig = m / V # masse / volumen\n",
    "\n",
    "# For gasser:\n",
    "M = sig * ( (R*T) / p)"
   ]
  },
  {
   "cell_type": "code",
   "execution_count": 4,
   "metadata": {},
   "outputs": [
    {
     "name": "stdout",
     "output_type": "stream",
     "text": [
      "0.9975684269592868\n"
     ]
    }
   ],
   "source": [
    "print(16 * (1 / 16.038999999999998))\n"
   ]
  }
 ],
 "metadata": {
  "interpreter": {
   "hash": "52ef40bef6fe95d01f4e6a289b0a18d186ae9fe07d6aa691c20f678f5dee4f12"
  },
  "kernelspec": {
   "display_name": "Python 3.9.12 64-bit (windows store)",
   "language": "python",
   "name": "python3"
  },
  "language_info": {
   "codemirror_mode": {
    "name": "ipython",
    "version": 3
   },
   "file_extension": ".py",
   "mimetype": "text/x-python",
   "name": "python",
   "nbconvert_exporter": "python",
   "pygments_lexer": "ipython3",
   "version": "3.9.12"
  },
  "orig_nbformat": 4
 },
 "nbformat": 4,
 "nbformat_minor": 2
}

{
 "cells": [
  {
   "cell_type": "code",
   "execution_count": 2,
   "metadata": {},
   "outputs": [
    {
     "name": "stdout",
     "output_type": "stream",
     "text": [
      "Result:  7.65E-07\n",
      "E-09 : nm\n"
     ]
    }
   ],
   "source": [
    "##########################\n",
    "# IONIZATION AND WAVELENGTHS\n",
    "##########################\n",
    "\n",
    "c = 3 * pow(10,8) #speed_of_light\n",
    "f = 1 # frequency, waves / seconds (in Hz)\n",
    "lamb = 1# wavelength (in meters) (nm -> m = * 10^-9)\n",
    "\n",
    "\n",
    "h = 6.62 * pow(10,-34) #Plancks constant j/Hz\n",
    "Na = 6.022 * pow(10,23) # Avogrados number (mol^-1)\n",
    "\n",
    "ion_E = 156.3 # Ionization energy\n",
    "\n",
    "# Formulas\n",
    "#E = h * f    # E, energy of the photon in joules(j)\n",
    "#c = lamb * f \n",
    "\n",
    "\n",
    "# Example\n",
    "# Calculate wavelength for ionizing an argon atom\n",
    "# Look up table 8.20, which has ionization energies(first value). \n",
    "# Because unit of value is KJ/mol, we divide with avogrados number, to only get KJ\n",
    "E = (ion_E / Na) * pow(10,3) # Value in KJ, så we add 10^3 to get j only\n",
    "lamb = (h*c) / E\n",
    "print(\"Result: \", format(lamb,'.2E'))\n",
    "print(\"E-09 : nm\")\n",
    "\n",
    "\n"
   ]
  },
  {
   "cell_type": "code",
   "execution_count": 1,
   "metadata": {},
   "outputs": [
    {
     "name": "stdout",
     "output_type": "stream",
     "text": [
      "156.3\n",
      "Put this value in method above, for wavelength\n"
     ]
    }
   ],
   "source": [
    "# For compounds\n",
    "#Bindingsenergien er differencen imellem ionizeringsenergien for de involverede stoffer.\n",
    "# (Lookup values at ptable, or tabel in book)\n",
    "ion_E_H = 418.7 \n",
    "ion_E_I = 262.4\n",
    "\n",
    "print(ion_E_H - ion_E_I)\n",
    "print(\"Put this value in method above, for wavelength\")\n"
   ]
  }
 ],
 "metadata": {
  "interpreter": {
   "hash": "52ef40bef6fe95d01f4e6a289b0a18d186ae9fe07d6aa691c20f678f5dee4f12"
  },
  "kernelspec": {
   "display_name": "Python 3.9.12 64-bit (windows store)",
   "language": "python",
   "name": "python3"
  },
  "language_info": {
   "codemirror_mode": {
    "name": "ipython",
    "version": 3
   },
   "file_extension": ".py",
   "mimetype": "text/x-python",
   "name": "python",
   "nbconvert_exporter": "python",
   "pygments_lexer": "ipython3",
   "version": "3.9.13"
  },
  "orig_nbformat": 4
 },
 "nbformat": 4,
 "nbformat_minor": 2
}

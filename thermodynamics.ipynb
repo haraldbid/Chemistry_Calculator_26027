{
 "cells": [
  {
   "cell_type": "code",
   "execution_count": null,
   "metadata": {},
   "outputs": [],
   "source": [
    "### Enheds omregning\n",
    "1 L*atm = 101.3 Joulev"
   ]
  },
  {
   "cell_type": "code",
   "execution_count": null,
   "metadata": {},
   "outputs": [],
   "source": [
    "# 1. hovedsætning\n",
    "\n",
    "#Den indre energi (u) for et system kan omdannes, men ikke dannes ud af den blå luft, eller forsvinde\n",
    "# Denner kan udregnes ved:\n",
    "delta_u = q + w \n",
    "#Hvor w er arbejdet\n",
    "\n",
    "# CHECK FORTEGN\n",
    "w = p * delta_volumen\n"
   ]
  },
  {
   "cell_type": "code",
   "execution_count": null,
   "metadata": {},
   "outputs": [],
   "source": [
    "# ## GIBBS ENERGY\n",
    "\n",
    "R = \n",
    "T = #Temperature (K)\n",
    "#R = 0.0821 # atm / (K * mol)\n",
    "#R = 8.3145 # J / (k * mol)\n",
    "k = # Equilibrium constant ([C]^c * [D]^d) / ([A]^a * [A]^a) product/reactant\n",
    "\n",
    "G = R * T * log(k) #natural log\n",
    "\n",
    "\n",
    "# Gibs energi også:\n",
    "delta_G = delta_H - T * delta_S\n",
    "\n",
    "#delta_G < 0 Frigivelse af energi -> Reaktionen er spontan\n",
    "#delta_G > 0 Reaktionen er ikke spontan (Spontan i modsat retning) \n",
    "#delta_G = 0 Reaktionen er ved ligevægt  \n"
   ]
  },
  {
   "cell_type": "code",
   "execution_count": null,
   "metadata": {},
   "outputs": [],
   "source": [
    "### ENTHALPI\n",
    "H = u + p*V \n",
    "delta_H = delta_u + (p* delta_V) + (delta_p * V)\n",
    "# Derudover er delta_H = q , ift. ovenstående formler\n",
    "\n",
    "\n",
    "\n",
    "# HESS LOV (Husk og gang koefficienter på standarddannelses værdien)\n",
    "delta_H = H(produkter) - H(reaktanter)\n",
    "delta_U = U(produkter) - U(reaktanter)"
   ]
  },
  {
   "cell_type": "code",
   "execution_count": null,
   "metadata": {},
   "outputs": [],
   "source": [
    "### ENTROPI\n",
    "#Stiger generelt med temperaturen.\n",
    "#Entropien, S hopper en del op, når fasen ændres denne vej: fast -> flydende -> gas \n",
    "# Falder når antallet af mol falder(koefficienter)\n",
    "\n"
   ]
  }
 ],
 "metadata": {
  "language_info": {
   "name": "python"
  },
  "orig_nbformat": 4
 },
 "nbformat": 4,
 "nbformat_minor": 2
}

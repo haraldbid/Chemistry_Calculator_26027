{
 "cells": [
  {
   "cell_type": "code",
   "execution_count": null,
   "metadata": {},
   "outputs": [],
   "source": [
    "### Enheds omregning\n",
    "1 L*atm = 101.3 Joulev"
   ]
  },
  {
   "cell_type": "code",
   "execution_count": null,
   "metadata": {},
   "outputs": [],
   "source": [
    "# 1. hovedsætning\n",
    "\n",
    "#Den indre energi (u) for et system kan omdannes, men ikke dannes ud af den blå luft, eller forsvinde\n",
    "# Denner kan udregnes ved:\n",
    "delta_u = q + w \n",
    "#Hvor w er arbejdet\n",
    "\n",
    "# CHECK FORTEGN\n",
    "w = p * delta_volumen\n"
   ]
  },
  {
   "cell_type": "code",
   "execution_count": null,
   "metadata": {},
   "outputs": [],
   "source": [
    "# ## GIBBS ENERGY\n",
    "\n",
    "R = \n",
    "T = #Temperature (K)\n",
    "#R = 0.0821 # atm / (K * mol)\n",
    "#R = 8.3145 # J / (k * mol)\n",
    "k = # Equilibrium constant ([C]^c * [D]^d) / ([A]^a * [A]^a) product/reactant\n",
    "\n",
    "G = R * T * log(k) #natural log\n",
    "\n",
    "\n",
    "# Gibs energi også:\n",
    "delta_G = delta_H - T * delta_S\n",
    "\n",
    "#delta_G < 0 Frigivelse af energi -> Reaktionen er spontan\n",
    "#delta_G > 0 Reaktionen er ikke spontan (Spontan i modsat retning) \n",
    "#delta_G = 0 Reaktionen er ved ligevægt  \n"
   ]
  },
  {
   "cell_type": "code",
   "execution_count": null,
   "metadata": {},
   "outputs": [],
   "source": [
    "### ENTHALPI\n",
    "H = u + p*V \n",
    "delta_H = delta_u + (p* delta_V) + (delta_p * V)\n",
    "# Derudover er delta_H = q , ift. ovenstående formler\n",
    "\n",
    "\n",
    "\n",
    "# HESS LOV (Husk og gang koefficienter på standarddannelses værdien)\n",
    "delta_H = H(produkter) - H(reaktanter)\n",
    "delta_U = U(produkter) - U(reaktanter)"
   ]
  },
  {
   "cell_type": "code",
   "execution_count": null,
   "metadata": {},
   "outputs": [],
   "source": [
    "### ENTROPI\n",
    "#Stiger generelt med temperaturen.\n",
    "#Entropien, S hopper en del op, når fasen ændres denne vej: fast -> flydende -> gas \n",
    "# Falder når antallet af mol falder(koefficienter)\n",
    "\n"
   ]
  },
  {
   "cell_type": "code",
   "execution_count": 5,
   "metadata": {},
   "outputs": [
    {
     "name": "stdout",
     "output_type": "stream",
     "text": [
      "-1.7638807875229499\n"
     ]
    }
   ],
   "source": [
    "# Clausius-Clapeyron ligning\n",
    "# Ved fordampning og tryk og temperatur\n",
    "#log(p) = - (delta_H_vap / R) * 1/T + C #Tryk i bar\n",
    "#log(p_1 / p_2) = - (delta_H_vap / R) * (1/T_2 - 1/T_1) #Tryk i bar\n",
    "\n",
    "T1 = 30 +273.15\n",
    "T2 = 100 +273.15\n",
    "\n",
    "P1 = 20.3\n",
    "P2 = 1\n",
    "\n",
    "#R = 0.0821 # atm / (K * mol)\n",
    "R = 8.3145 # J / (k * mol)\n",
    "\n",
    "delta_H_vap = 23.7 * pow(10,3) #Fordampningsvarme SKAL VÆRE I: J/mol\n",
    "right_side = (delta_H_vap/R)*(1/T2 - 1/T1)\n",
    "print(right_side)\n",
    "\n",
    "# Kan udregnes ish her, eller solve via maple."
   ]
  }
 ],
 "metadata": {
  "interpreter": {
   "hash": "52ef40bef6fe95d01f4e6a289b0a18d186ae9fe07d6aa691c20f678f5dee4f12"
  },
  "kernelspec": {
   "display_name": "Python 3.9.12 64-bit (windows store)",
   "language": "python",
   "name": "python3"
  },
  "language_info": {
   "codemirror_mode": {
    "name": "ipython",
    "version": 3
   },
   "file_extension": ".py",
   "mimetype": "text/x-python",
   "name": "python",
   "nbconvert_exporter": "python",
   "pygments_lexer": "ipython3",
   "version": "3.9.13"
  },
  "orig_nbformat": 4
 },
 "nbformat": 4,
 "nbformat_minor": 2
}
